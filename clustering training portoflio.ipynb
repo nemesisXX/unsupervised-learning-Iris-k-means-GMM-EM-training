{
 "cells": [
  {
   "cell_type": "code",
   "execution_count": 85,
   "metadata": {
    "id": "D80klhE_Y0lU"
   },
   "outputs": [],
   "source": [
    "import numpy as np\n",
    "from matplotlib import pyplot as plt\n",
    "from sklearn import datasets\n",
    "from scipy.stats import multivariate_normal"
   ]
  },
  {
   "cell_type": "markdown",
   "metadata": {
    "id": "Cx4imTfAZvqY"
   },
   "source": [
    "# Data set"
   ]
  },
  {
   "cell_type": "code",
   "execution_count": 86,
   "metadata": {
    "colab": {
     "base_uri": "https://localhost:8080/"
    },
    "id": "lDcZA_sGZOlM",
    "outputId": "17a042fd-67eb-4080-b90a-3a2d7a9c059a"
   },
   "outputs": [
    {
     "name": "stdout",
     "output_type": "stream",
     "text": [
      "Number of samples:  150\n",
      "Number of features:  4\n",
      "Number of labels:  150\n"
     ]
    }
   ],
   "source": [
    "iris = datasets.load_iris()\n",
    "X = iris.data\n",
    "Y = iris.target\n",
    "print(\"Number of samples: \", X.shape[0])\n",
    "print(\"Number of features: \", X.shape[1])\n",
    "print(\"Number of labels: \", Y.shape[0])"
   ]
  },
  {
   "cell_type": "markdown",
   "metadata": {
    "id": "7yEMDZ4DZyoC"
   },
   "source": [
    "# Part 1: K-means"
   ]
  },
  {
   "cell_type": "markdown",
   "metadata": {
    "id": "_Tr-po3CZ0Nx"
   },
   "source": [
    "\n",
    "Implement the \"basic\" K-means algorithm (as seen in the lectures, and without using scikit-learn or any library providing directly an implementation of the algorithm). "
   ]
  },
  {
   "cell_type": "code",
   "execution_count": 87,
   "metadata": {
    "id": "luUmoRFsZrFq"
   },
   "outputs": [],
   "source": [
    "# Implementation of the basic K-means algorithm\n",
    "\n",
    "# Convention:\n",
    "# data: matrix of dimension number of data points * number of features\n",
    "# clusters: array of sets of integers (data point indices); each cluster is \n",
    "# represented by a \"set\" data structure\n",
    "# centroids: matrix of dimension number of clusters * number of features\n",
    "\n",
    "def init_centroids(K, data):\n",
    "  # An arbitrary initialization: use the first data points\n",
    "  # (see Part 3 for more on this topic)\n",
    "  centroids = np.asarray([data[k].copy() for k in range(K)])\n",
    "  return centroids\n",
    "\n",
    "def update_centroids(clusters, data):\n",
    "  # Given the clusters, return the corresponding means\n",
    "  K = clusters.shape[0]\n",
    "  centroids = np.zeros((K,data.shape[1])) # TODO: replace\n",
    "  # we update centroids based on each cluster\n",
    "  for k in range(K):\n",
    "    cluster = clusters[k]\n",
    "    cluster_data = []\n",
    "    # here we check the data inside each cluster\n",
    "    for c in cluster:\n",
    "      cluster_data.append(data[c])\n",
    "    cluster_array = np.array(cluster_data)\n",
    "    centroids[k] = np.mean(cluster_array,axis = 0)\n",
    "  return centroids\n",
    "\n",
    "# We use the following function to measure the distance between 2 points\n",
    "dist_fct = lambda p1, p2: np.linalg.norm(p1-p2) \n",
    "\n",
    "def compute_clusters(centroids, data):\n",
    "  # Given the centroids, return the list of clusters\n",
    "  K = centroids.shape[0]\n",
    "  clusters = np.asarray([set()for i in range(K)])# TODO: replace\n",
    "  # here we get the number of data points (rows number)\n",
    "  N = data.shape[0]\n",
    "  for n in range(N):\n",
    "    data_point = data[n]\n",
    "    dist_lst = []\n",
    "    # here we iterate based on each cluster, to calculate the distance between \n",
    "    # each centroid with each data point\n",
    "    for k in range(K):\n",
    "      c = centroids[k]\n",
    "      dist = np.linalg.norm(data_point-c)\n",
    "      #this list covers the distance from point n to all centroids \n",
    "      dist_lst.append(dist)\n",
    "    # we only need the smallest distance between one data point and one centroid\n",
    "    m = min(dist_lst)\n",
    "    # find the position of cluster where the distance is the minimum\n",
    "    cluster = dist_lst.index(m)\n",
    "    clusters[cluster].add(n)\n",
    "  return clusters\n",
    "\n",
    "def k_means_step(centroids, data):\n",
    "  # One step of K-means algorithm: update centroids and clusters\n",
    "  new_clusters = compute_clusters(centroids, data)\n",
    "  new_centroids = update_centroids(new_clusters, data)\n",
    "  return new_centroids, new_clusters\n",
    "\n",
    "def k_means(K, data):\n",
    "  # K-means algorithm\n",
    "  # Initialization\n",
    "  iiter = 0\n",
    "  centroids = init_centroids(K, data)\n",
    "  centroids, clusters = k_means_step(centroids, data)\n",
    "  # Measure of successs: sum of average distances\n",
    "  total_d = unweighted_dist_centroid(centroids, clusters, data)\n",
    "  print(\"K-means, iteration = \", iiter, \" avg distance = \", total_d)\n",
    "  cont = True # flag to continue or stop the loop\n",
    "  while cont:\n",
    "    # insert K-means loop\n",
    "    new_centroids,new_clusters = k_means_step(centroids,data)\n",
    "    iiter+=1\n",
    "    if (new_clusters == clusters).all():\n",
    "      cont = False\n",
    "    centroids, clusters = new_centroids, new_clusters\n",
    "    # Measure of successs: sum of average distances\n",
    "    total_d = unweighted_dist_centroid(centroids, clusters, data)\n",
    "    print(\"K-means, iteration = \", iiter, \" total distance = \", total_d)\n",
    "  return centroids, clusters"
   ]
  },
  {
   "cell_type": "markdown",
   "metadata": {
    "id": "oMGc4uaN3XL4"
   },
   "source": [
    "Run the algorithm for $K=1, 2, 3, 4, 5, 6, 7$ on the iris flower data set. For each $K$, compute the average distance to the mean position, as well as the total (unweighted) distance, defined respectively by:\n",
    "$$\n",
    "    D_K = \\sum_{k=1}^K \\frac{1}{|C_k|} \\sum_{x^i \\in C_k} \\|x^i - m_k\\|^2,\n",
    "    \\qquad \n",
    "    T_K = \\sum_{k=1}^K \\sum_{x^i \\in C_k} \\|x^i - m_k\\|^2,\n",
    "$$\n",
    "which depend on the clusters $C_1, \\dots, C_K$. When running the K-means algorithm, the clusters $(C_1, \\dots, C_K)$ are adjusted until you get a (minimal or locally minimal) value for $D_K$. Plot the values of these two quantities as functions of $K$. Is there an elbow in the curves?\n"
   ]
  },
  {
   "cell_type": "code",
   "execution_count": 88,
   "metadata": {
    "colab": {
     "base_uri": "https://localhost:8080/",
     "height": 1000
    },
    "id": "ky1efgLleupG",
    "outputId": "f8f8ebf6-877a-4743-e2f3-1b91dcd18965"
   },
   "outputs": [
    {
     "name": "stdout",
     "output_type": "stream",
     "text": [
      "\n",
      "\n",
      "========== K-means for K =  1  ==========\n",
      "K-means, iteration =  0  avg distance =  681.3706000000001\n",
      "K-means, iteration =  1  total distance =  681.3706000000001\n",
      "\n",
      "\n",
      "========== K-means for K =  2  ==========\n",
      "K-means, iteration =  0  avg distance =  639.4177574967405\n",
      "K-means, iteration =  1  total distance =  198.83500449559438\n",
      "K-means, iteration =  2  total distance =  157.73801291793316\n",
      "K-means, iteration =  3  total distance =  152.34795176035792\n",
      "K-means, iteration =  4  total distance =  152.34795176035792\n",
      "\n",
      "\n",
      "========== K-means for K =  3  ==========\n",
      "K-means, iteration =  0  avg distance =  555.5665701736465\n",
      "K-means, iteration =  1  total distance =  93.30594900437106\n",
      "K-means, iteration =  2  total distance =  85.14317582417584\n",
      "K-means, iteration =  3  total distance =  83.97458974358975\n",
      "K-means, iteration =  4  total distance =  83.28096715927751\n",
      "K-means, iteration =  5  total distance =  81.98358129265355\n",
      "K-means, iteration =  6  total distance =  81.27780000000001\n",
      "K-means, iteration =  7  total distance =  80.226346215781\n",
      "K-means, iteration =  8  total distance =  79.59232190942475\n",
      "K-means, iteration =  9  total distance =  79.02616666666668\n",
      "K-means, iteration =  10  total distance =  78.85566582597728\n",
      "K-means, iteration =  11  total distance =  78.85566582597728\n",
      "\n",
      "\n",
      "========== K-means for K =  4  ==========\n",
      "K-means, iteration =  0  avg distance =  589.1685941558443\n",
      "K-means, iteration =  1  total distance =  95.78072822040208\n",
      "K-means, iteration =  2  total distance =  80.85885640761713\n",
      "K-means, iteration =  3  total distance =  76.74553275309208\n",
      "K-means, iteration =  4  total distance =  72.21146055631556\n",
      "K-means, iteration =  5  total distance =  66.2671875309253\n",
      "K-means, iteration =  6  total distance =  62.0327653508772\n",
      "K-means, iteration =  7  total distance =  59.55421575678326\n",
      "K-means, iteration =  8  total distance =  57.8756673254282\n",
      "K-means, iteration =  9  total distance =  57.35804680232558\n",
      "K-means, iteration =  10  total distance =  57.3179722985348\n",
      "K-means, iteration =  11  total distance =  57.25600931571816\n",
      "K-means, iteration =  12  total distance =  57.25600931571816\n",
      "\n",
      "\n",
      "========== K-means for K =  5  ==========\n",
      "K-means, iteration =  0  avg distance =  487.92929870129876\n",
      "K-means, iteration =  1  total distance =  84.93088595312736\n",
      "K-means, iteration =  2  total distance =  72.77107792207794\n",
      "K-means, iteration =  3  total distance =  69.33933794789728\n",
      "K-means, iteration =  4  total distance =  64.80526575112074\n",
      "K-means, iteration =  5  total distance =  58.86099272573048\n",
      "K-means, iteration =  6  total distance =  54.62657054568239\n",
      "K-means, iteration =  7  total distance =  52.14802095158845\n",
      "K-means, iteration =  8  total distance =  50.469472520233396\n",
      "K-means, iteration =  9  total distance =  49.951851997130774\n",
      "K-means, iteration =  10  total distance =  49.91177749333999\n",
      "K-means, iteration =  11  total distance =  49.84981451052335\n",
      "K-means, iteration =  12  total distance =  49.84981451052335\n",
      "\n",
      "\n",
      "========== K-means for K =  6  ==========\n",
      "K-means, iteration =  0  avg distance =  272.909185897436\n",
      "K-means, iteration =  1  total distance =  125.47652783400808\n",
      "K-means, iteration =  2  total distance =  95.61859544512896\n",
      "K-means, iteration =  3  total distance =  78.67644096348518\n",
      "K-means, iteration =  4  total distance =  75.01422145011853\n",
      "K-means, iteration =  5  total distance =  73.84563536953243\n",
      "K-means, iteration =  6  total distance =  73.1520127852202\n",
      "K-means, iteration =  7  total distance =  71.85462691859624\n",
      "K-means, iteration =  8  total distance =  71.14884562594268\n",
      "K-means, iteration =  9  total distance =  70.09739184172369\n",
      "K-means, iteration =  10  total distance =  69.46336753536742\n",
      "K-means, iteration =  11  total distance =  68.89721229260937\n",
      "K-means, iteration =  12  total distance =  68.72671145191997\n",
      "K-means, iteration =  13  total distance =  68.72671145191997\n",
      "\n",
      "\n",
      "========== K-means for K =  7  ==========\n",
      "K-means, iteration =  0  avg distance =  272.7345192307693\n",
      "K-means, iteration =  1  total distance =  124.43602029914528\n",
      "K-means, iteration =  2  total distance =  95.16528360500828\n",
      "K-means, iteration =  3  total distance =  78.28867965126798\n",
      "K-means, iteration =  4  total distance =  74.62646013790133\n",
      "K-means, iteration =  5  total distance =  73.45787405731524\n",
      "K-means, iteration =  6  total distance =  72.764251473003\n",
      "K-means, iteration =  7  total distance =  71.46686560637903\n",
      "K-means, iteration =  8  total distance =  70.76108431372549\n",
      "K-means, iteration =  9  total distance =  69.70963052950648\n",
      "K-means, iteration =  10  total distance =  69.07560622315023\n",
      "K-means, iteration =  11  total distance =  68.50945098039216\n",
      "K-means, iteration =  12  total distance =  68.33895013970277\n",
      "K-means, iteration =  13  total distance =  68.33895013970277\n"
     ]
    },
    {
     "data": {
      "image/png": "[encoded data removed]",
      "text/plain": [
       "<Figure size 432x288 with 1 Axes>"
      ]
     },
     "metadata": {
      "needs_background": "light"
     },
     "output_type": "display_data"
    },
    {
     "data": {
      "image/png": "[encoded data removed]",
      "text/plain": [
       "<Figure size 432x288 with 1 Axes>"
      ]
     },
     "metadata": {
      "needs_background": "light"
     },
     "output_type": "display_data"
    },
    {
     "data": {
      "text/plain": [
       "<Figure size 432x288 with 0 Axes>"
      ]
     },
     "metadata": {},
     "output_type": "display_data"
    }
   ],
   "source": [
    "def avg_dist_centroid(centroids, clusters, data):\n",
    "  # Given centroids and corresponding clusters, compute average distances\n",
    "  K = centroids.shape[0]\n",
    "\n",
    "  dist = 0 # TODO: replace\n",
    "  # we iterate in each cluster\n",
    "  for k in range(K):\n",
    "    centroid = centroids[k]\n",
    "    sum_x = 0\n",
    "    for i in clusters[k]:\n",
    "      element = data[i]\n",
    "      point_dist = np.linalg.norm(element-centroid)**2\n",
    "      sum_x += point_dist\n",
    "    Ck = len(clusters[k])\n",
    "    avg_k = Ck*sum_x\n",
    "    dist += avg_k\n",
    "  return dist\n",
    "    \n",
    "def unweighted_dist_centroid(centroids, clusters, data):\n",
    "  # Given centroids and corresponding clusters, compute total distances\n",
    "  K = centroids.shape[0]\n",
    "\n",
    "  dist = 0\n",
    "  for k in range(K):\n",
    "    centroid = centroids[k]\n",
    "    sum_x = 0\n",
    "    for i in clusters[k]:\n",
    "      element = data[i]\n",
    "      point_dist = np.linalg.norm(element-centroid)**2\n",
    "      sum_x += point_dist\n",
    "    dist += sum_x\n",
    "  return dist\n",
    "  \n",
    "# Tests\n",
    "avg_distances = []\n",
    "total_distances = []\n",
    "K_values = np.arange(1, 8)\n",
    "for K in K_values:\n",
    "  print(\"\\n\\n========== K-means for K = \", K, \" ==========\")\n",
    "  centroids, clusters = k_means(K, X)\n",
    "  avg_distances.append(avg_dist_centroid(centroids, clusters, X))\n",
    "  total_distances.append(unweighted_dist_centroid(centroids, clusters, X))\n",
    "\n",
    "plt.plot(K_values, avg_distances)\n",
    "plt.xlabel(\"K\")\n",
    "plt.ylabel(\"avg dist\")\n",
    "plt.show()\n",
    "plt.clf()\n",
    "\n",
    "plt.plot(K_values, total_distances)\n",
    "plt.xlabel(\"K\")\n",
    "plt.ylabel(\"total dist\")\n",
    "plt.show()\n",
    "plt.clf()"
   ]
  },
  {
   "cell_type": "markdown",
   "metadata": {
    "id": "ErKamAO9Evc4",
    "pycharm": {
     "name": "#%% md\n"
    }
   },
   "source": [
    "There is an elbow point at K=2."
   ]
  },
  {
   "cell_type": "markdown",
   "metadata": {
    "id": "R3vncsDW3Y0E"
   },
   "source": [
    "Now, let us use the labels just to evaluate our results. Consider the clusters obtained with $K=1, 2, 3, 4, 5, 6, 7$. For each cluster, compute the corresponding label by taking the majority vote. In this way, how many samples were incorrectly labeled?\n"
   ]
  },
  {
   "cell_type": "code",
   "execution_count": 89,
   "metadata": {
    "colab": {
     "base_uri": "https://localhost:8080/"
    },
    "id": "4q79NqJz3al4",
    "outputId": "bcba7ca0-c827-4cad-d6cc-30e032e0d439"
   },
   "outputs": [
    {
     "name": "stdout",
     "output_type": "stream",
     "text": [
      "\n",
      "\n",
      "========== K-means for K =  1  ==========\n",
      "K-means, iteration =  0  avg distance =  681.3706000000001\n",
      "K-means, iteration =  1  total distance =  681.3706000000001\n",
      "Number of errors:  100\n",
      "\n",
      "\n",
      "========== K-means for K =  2  ==========\n",
      "K-means, iteration =  0  avg distance =  639.4177574967405\n",
      "K-means, iteration =  1  total distance =  198.83500449559438\n",
      "K-means, iteration =  2  total distance =  157.73801291793316\n",
      "K-means, iteration =  3  total distance =  152.34795176035792\n",
      "K-means, iteration =  4  total distance =  152.34795176035792\n",
      "Number of errors:  50\n",
      "\n",
      "\n",
      "========== K-means for K =  3  ==========\n",
      "K-means, iteration =  0  avg distance =  555.5665701736465\n",
      "K-means, iteration =  1  total distance =  93.30594900437106\n",
      "K-means, iteration =  2  total distance =  85.14317582417584\n",
      "K-means, iteration =  3  total distance =  83.97458974358975\n",
      "K-means, iteration =  4  total distance =  83.28096715927751\n",
      "K-means, iteration =  5  total distance =  81.98358129265355\n",
      "K-means, iteration =  6  total distance =  81.27780000000001\n",
      "K-means, iteration =  7  total distance =  80.226346215781\n",
      "K-means, iteration =  8  total distance =  79.59232190942475\n",
      "K-means, iteration =  9  total distance =  79.02616666666668\n",
      "K-means, iteration =  10  total distance =  78.85566582597728\n",
      "K-means, iteration =  11  total distance =  78.85566582597728\n",
      "Number of errors:  17.0\n",
      "\n",
      "\n",
      "========== K-means for K =  4  ==========\n",
      "K-means, iteration =  0  avg distance =  589.1685941558443\n",
      "K-means, iteration =  1  total distance =  95.78072822040208\n",
      "K-means, iteration =  2  total distance =  80.85885640761713\n",
      "K-means, iteration =  3  total distance =  76.74553275309208\n",
      "K-means, iteration =  4  total distance =  72.21146055631556\n",
      "K-means, iteration =  5  total distance =  66.2671875309253\n",
      "K-means, iteration =  6  total distance =  62.0327653508772\n",
      "K-means, iteration =  7  total distance =  59.55421575678326\n",
      "K-means, iteration =  8  total distance =  57.8756673254282\n",
      "K-means, iteration =  9  total distance =  57.35804680232558\n",
      "K-means, iteration =  10  total distance =  57.3179722985348\n",
      "K-means, iteration =  11  total distance =  57.25600931571816\n",
      "K-means, iteration =  12  total distance =  57.25600931571816\n",
      "Number of errors:  18.0\n",
      "\n",
      "\n",
      "========== K-means for K =  5  ==========\n",
      "K-means, iteration =  0  avg distance =  487.92929870129876\n",
      "K-means, iteration =  1  total distance =  84.93088595312736\n",
      "K-means, iteration =  2  total distance =  72.77107792207794\n",
      "K-means, iteration =  3  total distance =  69.33933794789728\n",
      "K-means, iteration =  4  total distance =  64.80526575112074\n",
      "K-means, iteration =  5  total distance =  58.86099272573048\n",
      "K-means, iteration =  6  total distance =  54.62657054568239\n",
      "K-means, iteration =  7  total distance =  52.14802095158845\n",
      "K-means, iteration =  8  total distance =  50.469472520233396\n",
      "K-means, iteration =  9  total distance =  49.951851997130774\n",
      "K-means, iteration =  10  total distance =  49.91177749333999\n",
      "K-means, iteration =  11  total distance =  49.84981451052335\n",
      "K-means, iteration =  12  total distance =  49.84981451052335\n",
      "Number of errors:  18.0\n",
      "\n",
      "\n",
      "========== K-means for K =  6  ==========\n",
      "K-means, iteration =  0  avg distance =  272.909185897436\n",
      "K-means, iteration =  1  total distance =  125.47652783400808\n",
      "K-means, iteration =  2  total distance =  95.61859544512896\n",
      "K-means, iteration =  3  total distance =  78.67644096348518\n",
      "K-means, iteration =  4  total distance =  75.01422145011853\n",
      "K-means, iteration =  5  total distance =  73.84563536953243\n",
      "K-means, iteration =  6  total distance =  73.1520127852202\n",
      "K-means, iteration =  7  total distance =  71.85462691859624\n",
      "K-means, iteration =  8  total distance =  71.14884562594268\n",
      "K-means, iteration =  9  total distance =  70.09739184172369\n",
      "K-means, iteration =  10  total distance =  69.46336753536742\n",
      "K-means, iteration =  11  total distance =  68.89721229260937\n",
      "K-means, iteration =  12  total distance =  68.72671145191997\n",
      "K-means, iteration =  13  total distance =  68.72671145191997\n",
      "Number of errors:  17.0\n",
      "\n",
      "\n",
      "========== K-means for K =  7  ==========\n",
      "K-means, iteration =  0  avg distance =  272.7345192307693\n",
      "K-means, iteration =  1  total distance =  124.43602029914528\n",
      "K-means, iteration =  2  total distance =  95.16528360500828\n",
      "K-means, iteration =  3  total distance =  78.28867965126798\n",
      "K-means, iteration =  4  total distance =  74.62646013790133\n",
      "K-means, iteration =  5  total distance =  73.45787405731524\n",
      "K-means, iteration =  6  total distance =  72.764251473003\n",
      "K-means, iteration =  7  total distance =  71.46686560637903\n",
      "K-means, iteration =  8  total distance =  70.76108431372549\n",
      "K-means, iteration =  9  total distance =  69.70963052950648\n",
      "K-means, iteration =  10  total distance =  69.07560622315023\n",
      "K-means, iteration =  11  total distance =  68.50945098039216\n",
      "K-means, iteration =  12  total distance =  68.33895013970277\n",
      "K-means, iteration =  13  total distance =  68.33895013970277\n",
      "Number of errors:  17.0\n"
     ]
    }
   ],
   "source": [
    "def count_errors(clusters, data, labels):\n",
    "  # Return the number of errors if we use majority voting each cluster and then\n",
    "  # use the labels to check how many errors it makes\n",
    "  # labels: array of size number of data points\n",
    "  nb_errs = 0\n",
    "  for k in range(K):\n",
    "    cluster = clusters[k]\n",
    "    label_list = []\n",
    "    for i in cluster:\n",
    "      label_list.append(labels[i])\n",
    "    label,count = np.unique(label_list,return_counts = True)\n",
    "    nb_errs += np.sum(sorted(count)[:-1])\n",
    "  return nb_errs\n",
    "\n",
    "K_values = np.arange(1, 8)\n",
    "for K in K_values:\n",
    "  print(\"\\n\\n========== K-means for K = \", K, \" ==========\")\n",
    "  centroids, clusters = k_means(K, X)\n",
    "  print(\"Number of errors: \", count_errors(clusters, X, Y))"
   ]
  },
  {
   "cell_type": "markdown",
   "metadata": {
    "id": "2W_HhZ7V3gjY"
   },
   "source": [
    "# Part 2: GMM+EM"
   ]
  },
  {
   "cell_type": "markdown",
   "metadata": {
    "id": "R22IrXVf_uDO"
   },
   "source": [
    "## Question 4\n",
    "\n",
    "Implement the \"basic\" Expectation-Maximization (EM) algorithm with Gaussian Mixture Model (GMM) (as seen in the lectures, and without using scikit-learn or any library providing directly an implementation of the algorithm).\n"
   ]
  },
  {
   "cell_type": "code",
   "execution_count": 90,
   "metadata": {
    "id": "4dJfZhNS3tSw"
   },
   "outputs": [],
   "source": [
    "# Implementation of the basic Expectation-Maximization algorithm\n",
    "\n",
    "# Convention:\n",
    "# data: matrix of dimension number of data points * number of features\n",
    "# params: triple of weights, means, covs; each of length = number of clusters\n",
    "# - weights contains the weights for the mixture of Gaussian distributions\n",
    "# - means contains the means of the Gaussian distributions\n",
    "# - covs contains the covariances of the Gaussian distributions\n",
    "\n",
    "def init_gaussians(K, data):\n",
    "  # An arbitrary initialization: use the first data points\n",
    "  # and covariance = identity matrix\n",
    "  # (see Part 3 for more on this topic)\n",
    "  weights = [1/K for k in range(K)]\n",
    "  means = [data[k].copy() for k in range(K)]\n",
    "  dim = data.shape[1]\n",
    "  covs = [np.eye(dim) for k in range(K)]\n",
    "  return weights, means, covs\n",
    "\n",
    "def expectation_step(params, data):\n",
    "  # Expectation step in EM algorithm: given the GMM parameters, return\n",
    "  # the conditional probabilities of the cluster indices\n",
    "  n_samples = data.shape[0]\n",
    "  weights, means, covs = params #[0], params[1], params[2]\n",
    "  K = len(weights)\n",
    "  probas = np.zeros((n_samples,K)) \n",
    "  for n in range(n_samples):\n",
    "    # for n-th data, update the prob of the i-th cluster, which shows\n",
    "    #a prob matrix with size N*K\n",
    "    # p_value is the value of the i_th gaussian distribution on data point n\n",
    "    s_value = np.sum([multivariate_normal(means[i], covs[i],allow_singular = True).pdf(data[n])*weights[i] for i in range (K)])\n",
    "    for k in range(K):\n",
    "      p_value = multivariate_normal(means[k],covs[k],allow_singular = True).pdf(data[n])*weights[k]\n",
    "      probas[n][k] = p_value/s_value\n",
    "    \n",
    "\n",
    "  return np.asarray(probas)\n",
    "\n",
    "def maximization_step(probas, data):\n",
    "  # Maximization step in EM algorithm: given the probabilities, return the new\n",
    "  # parameters for GMM. Here we use formulas obtained by finding maximizers of \n",
    "  # the modified likelihood function.\n",
    "  K = probas.shape[1]\n",
    "  \n",
    "  params = init_gaussians(K, data)  # TODO: replace\n",
    "  N = data.shape[0]\n",
    "  for k in range(K):\n",
    "    sum_probas = np.sum(probas[n][k] for n in range(N))\n",
    "    sum_probas_x = np.sum(probas[n][k]*data[n] for n in range(N))\n",
    "    weight = sum_probas/N\n",
    "    mean_k = sum_probas_x/sum_probas\n",
    "    sum_probas_covs = np.sum(probas[n][k]*(np.array([data[n]-mean_k]).T@ np.array([data[n]-mean_k])) for n in range(N))\n",
    "    cov_k = sum_probas_covs/sum_probas\n",
    "\n",
    "\n",
    "    params[0][k] = weight\n",
    "    params[1][k] = mean_k\n",
    "    params[2][k] = cov_k\n",
    "  return params\n",
    "\n",
    "  \n",
    "def em_algorithm(K, data, n_iter):\n",
    "  # Expectation-maximization algorithm: return the GMM parameters\n",
    "  params = init_gaussians(K, data)\n",
    "  \n",
    "  \n",
    "  for i in range(n_iter):\n",
    "    probas = expectation_step(params,data)\n",
    "    params = maximization_step(probas, data)\n",
    "  return params\n"
   ]
  },
  {
   "cell_type": "markdown",
   "metadata": {
    "id": "GSd1zJJs3tcY"
   },
   "source": [
    "Run the algorithm for $K=1, 2, 3, 4, 5, 6, 7$ on the iris flower data set. For each $K$, compute the likelihood:\n",
    "$$\n",
    "    L_K = \\sum_{i=1}^N \\sum_{m=1}^K \\mathbb{P}_{\\theta}(Z^i = m|X^i=x^i) \\log(p_{\\theta}(x^i,m\n",
    "    )),\n",
    "$$\n",
    "which depends on the parameter $\\theta = (\\sigma_1,\\mu_1,\\pi_1, \\dots,\\sigma_M,\\mu_M,\\pi_M)$ of the GMM. When running the EM algorithm, the parameter $\\theta$ is adjusted until you get a (minimal or locally minimal) value for $L_K$. Plot this value as a function of $K$. "
   ]
  },
  {
   "cell_type": "code",
   "execution_count": 91,
   "metadata": {
    "colab": {
     "base_uri": "https://localhost:8080/",
     "height": 745
    },
    "id": "PpgfXT1dFwR-",
    "outputId": "e0b186ba-1931-4756-eed9-b32e27cb50eb"
   },
   "outputs": [
    {
     "name": "stdout",
     "output_type": "stream",
     "text": [
      "\n",
      "\n",
      "========== K-means for K =  1  ==========\n"
     ]
    },
    {
     "name": "stderr",
     "output_type": "stream",
     "text": [
      "/var/folders/6f/v5_vm1k90cdc80sb2rp4zc3m0000gn/T/ipykernel_1922/2900836974.py:49: DeprecationWarning: Calling np.sum(generator) is deprecated, and in the future will give a different result. Use np.sum(np.fromiter(generator)) or the python sum builtin instead.\n",
      "  sum_probas = np.sum(probas[n][k] for n in range(N))\n",
      "/var/folders/6f/v5_vm1k90cdc80sb2rp4zc3m0000gn/T/ipykernel_1922/2900836974.py:50: DeprecationWarning: Calling np.sum(generator) is deprecated, and in the future will give a different result. Use np.sum(np.fromiter(generator)) or the python sum builtin instead.\n",
      "  sum_probas_x = np.sum(probas[n][k]*data[n] for n in range(N))\n",
      "/var/folders/6f/v5_vm1k90cdc80sb2rp4zc3m0000gn/T/ipykernel_1922/2900836974.py:53: DeprecationWarning: Calling np.sum(generator) is deprecated, and in the future will give a different result. Use np.sum(np.fromiter(generator)) or the python sum builtin instead.\n",
      "  sum_probas_covs = np.sum(probas[n][k]*(np.array([data[n]-mean_k]).T@ np.array([data[n]-mean_k])) for n in range(N))\n"
     ]
    },
    {
     "name": "stdout",
     "output_type": "stream",
     "text": [
      "\n",
      "\n",
      "========== K-means for K =  2  ==========\n",
      "\n",
      "\n",
      "========== K-means for K =  3  ==========\n",
      "\n",
      "\n",
      "========== K-means for K =  4  ==========\n",
      "\n",
      "\n",
      "========== K-means for K =  5  ==========\n",
      "\n",
      "\n",
      "========== K-means for K =  6  ==========\n",
      "\n",
      "\n",
      "========== K-means for K =  7  ==========\n"
     ]
    },
    {
     "data": {
      "image/png": "[encoded data removed]",
      "text/plain": [
       "<Figure size 432x288 with 1 Axes>"
      ]
     },
     "metadata": {
      "needs_background": "light"
     },
     "output_type": "display_data"
    },
    {
     "data": {
      "text/plain": [
       "<Figure size 432x288 with 0 Axes>"
      ]
     },
     "metadata": {},
     "output_type": "display_data"
    }
   ],
   "source": [
    "# TODO: complete\n",
    "\n",
    "def log_likelihood(params, data):\n",
    "  # Compute the log-likelihood\n",
    "  log_l = 0\n",
    "  # TODO: complete\n",
    "  # from the log likelihood formula, we should calculate the expectation parts\n",
    "  # and the log parts.\n",
    "  N = data.shape[0]\n",
    "  K = len(params[0])\n",
    "  # we first calculate the expectation part\n",
    "  probas = expectation_step(params, data)\n",
    "  for n in range(N):\n",
    "    temp = 0\n",
    "    for k in range(K):\n",
    "      # we calculate the log parts.\n",
    "      t_value = params[0][k]*multivariate_normal(params[1][k],params[2][k],allow_singular = True).pdf(data[n])\n",
    "      p = probas[n][k]\n",
    "      # this is the element inside the summation of log likelihood\n",
    "      ele = p*(np.log10(t_value+1e-5))\n",
    "      temp += ele\n",
    "    log_l += temp\n",
    "\n",
    "  return log_l\n",
    "\n",
    "# Tests\n",
    "log_likelihoods = []\n",
    "K_values = np.arange(1, 8)\n",
    "n_iter = 50\n",
    "for K in K_values:\n",
    "  print(\"\\n\\n========== K-means for K = \", K, \" ==========\")\n",
    "  params = em_algorithm(K, X, n_iter)\n",
    "  log_likelihoods.append(log_likelihood(params, X))\n",
    "\n",
    "plt.plot(K_values, log_likelihoods)\n",
    "plt.xlabel(\"K\")\n",
    "plt.ylabel(\"log-likelihood\")\n",
    "plt.show()\n",
    "plt.clf()"
   ]
  },
  {
   "cell_type": "markdown",
   "metadata": {
    "id": "SlW-Q9tB3uoM",
    "pycharm": {
     "name": "#%% md\n"
    }
   },
   "source": [
    "Is there an elbow in the curve?\n"
   ]
  },
  {
   "cell_type": "markdown",
   "metadata": {
    "id": "qU8UkidXIfQ_"
   },
   "source": [
    "\n",
    "\n",
    "\n",
    "\n",
    "Yes, we have an elbow, and the elbow should he when k = 2"
   ]
  },
  {
   "cell_type": "markdown",
   "metadata": {
    "id": "Y7pXW0mN306j"
   },
   "source": [
    "For $K=1, 2, 3, 4$, compare the clusters' means obtained in the K-means algorithm and the Gaussians' means obtained in the GMM+EM algorithm. For each $K$, compute the distance between these two sets of means in three different ways: min, max and average distance. (These distances between sets have been defined in the slides about hierarchical clustering but can be used for any two sets of points, such as the ones we have here)."
   ]
  },
  {
   "cell_type": "code",
   "execution_count": 92,
   "metadata": {
    "colab": {
     "base_uri": "https://localhost:8080/"
    },
    "id": "wgby4SLF32Bo",
    "outputId": "e590f53c-b7b5-418d-96be-846c9a854060"
   },
   "outputs": [
    {
     "name": "stdout",
     "output_type": "stream",
     "text": [
      "\n",
      "\n",
      "========== K-means for K =  1  ==========\n"
     ]
    },
    {
     "name": "stderr",
     "output_type": "stream",
     "text": [
      "/var/folders/6f/v5_vm1k90cdc80sb2rp4zc3m0000gn/T/ipykernel_1922/2900836974.py:49: DeprecationWarning: Calling np.sum(generator) is deprecated, and in the future will give a different result. Use np.sum(np.fromiter(generator)) or the python sum builtin instead.\n",
      "  sum_probas = np.sum(probas[n][k] for n in range(N))\n",
      "/var/folders/6f/v5_vm1k90cdc80sb2rp4zc3m0000gn/T/ipykernel_1922/2900836974.py:50: DeprecationWarning: Calling np.sum(generator) is deprecated, and in the future will give a different result. Use np.sum(np.fromiter(generator)) or the python sum builtin instead.\n",
      "  sum_probas_x = np.sum(probas[n][k]*data[n] for n in range(N))\n",
      "/var/folders/6f/v5_vm1k90cdc80sb2rp4zc3m0000gn/T/ipykernel_1922/2900836974.py:53: DeprecationWarning: Calling np.sum(generator) is deprecated, and in the future will give a different result. Use np.sum(np.fromiter(generator)) or the python sum builtin instead.\n",
      "  sum_probas_covs = np.sum(probas[n][k]*(np.array([data[n]-mean_k]).T@ np.array([data[n]-mean_k])) for n in range(N))\n"
     ]
    },
    {
     "name": "stdout",
     "output_type": "stream",
     "text": [
      "K-means, iteration =  0  avg distance =  681.3706000000001\n",
      "K-means, iteration =  1  total distance =  681.3706000000001\n",
      "min distance: 0.0\n",
      "max distance: 0.0\n",
      "average distance: 0.0\n",
      "\n",
      "\n",
      "========== K-means for K =  2  ==========\n",
      "K-means, iteration =  0  avg distance =  639.4177574967405\n",
      "K-means, iteration =  1  total distance =  198.83500449559438\n",
      "K-means, iteration =  2  total distance =  157.73801291793316\n",
      "K-means, iteration =  3  total distance =  152.34795176035792\n",
      "K-means, iteration =  4  total distance =  152.34795176035792\n",
      "min distance: 0.07013723261998818\n",
      "max distance: 4.037288673561241\n",
      "average distance: 2.0237905565163063\n",
      "\n",
      "\n",
      "========== K-means for K =  3  ==========\n",
      "K-means, iteration =  0  avg distance =  555.5665701736465\n",
      "K-means, iteration =  1  total distance =  93.30594900437106\n",
      "K-means, iteration =  2  total distance =  85.14317582417584\n",
      "K-means, iteration =  3  total distance =  83.97458974358975\n",
      "K-means, iteration =  4  total distance =  83.28096715927751\n",
      "K-means, iteration =  5  total distance =  81.98358129265355\n",
      "K-means, iteration =  6  total distance =  81.27780000000001\n",
      "K-means, iteration =  7  total distance =  80.226346215781\n",
      "K-means, iteration =  8  total distance =  79.59232190942475\n",
      "K-means, iteration =  9  total distance =  79.02616666666668\n",
      "K-means, iteration =  10  total distance =  78.85566582597728\n",
      "K-means, iteration =  11  total distance =  78.85566582597728\n",
      "min distance: 4.4760842561575064e-08\n",
      "max distance: 4.989727320922416\n",
      "average distance: 2.2120273866467026\n",
      "\n",
      "\n",
      "========== K-means for K =  4  ==========\n",
      "K-means, iteration =  0  avg distance =  589.1685941558443\n",
      "K-means, iteration =  1  total distance =  95.78072822040208\n",
      "K-means, iteration =  2  total distance =  80.85885640761713\n",
      "K-means, iteration =  3  total distance =  76.74553275309208\n",
      "K-means, iteration =  4  total distance =  72.21146055631556\n",
      "K-means, iteration =  5  total distance =  66.2671875309253\n",
      "K-means, iteration =  6  total distance =  62.0327653508772\n",
      "K-means, iteration =  7  total distance =  59.55421575678326\n",
      "K-means, iteration =  8  total distance =  57.8756673254282\n",
      "K-means, iteration =  9  total distance =  57.35804680232558\n",
      "K-means, iteration =  10  total distance =  57.3179722985348\n",
      "K-means, iteration =  11  total distance =  57.25600931571816\n",
      "K-means, iteration =  12  total distance =  57.25600931571816\n",
      "min distance: 0.0\n",
      "max distance: 5.150108987014255\n",
      "average distance: 2.1257031165996407\n"
     ]
    }
   ],
   "source": [
    "n_iter = 50\n",
    "for K in range(1,5):\n",
    "  print(\"\\n\\n========== K-means for K = \", K, \" ==========\")\n",
    "  params = em_algorithm(K, X, n_iter)\n",
    "  centroids, clusters = k_means(K, X)\n",
    "  dist_l = []\n",
    "  for i in range(K):\n",
    "    for j in range (K):\n",
    "      dist = dist_fct(params[1][i], centroids[j])\n",
    "      dist_l.append(dist)\n",
    "  print(\"min distance:\", min(dist_l))\n",
    "  print(\"max distance:\", max(dist_l))\n",
    "  print(\"average distance:\", np.sum(dist_l)/len(dist_l))"
   ]
  },
  {
   "cell_type": "markdown",
   "metadata": {
    "id": "jq3_t4xh3zzb"
   },
   "source": [
    "# Part 2: Initialization\n",
    "\n",
    "The above questions have been done for a given initialization. Now let's randomize the initialization. "
   ]
  },
  {
   "cell_type": "markdown",
   "metadata": {
    "id": "2NLTEGyW333I"
   },
   "source": [
    " Compute the range of each feature in the data set (i.e., an interval of the form [min value, max value]). \n",
    "\n",
    " This means that all our data points are contained in a cube in dimension equal to the number of features (here $d=4$), whose coordinates are given by the range of each feature. We could use this information to normalize the features (i.e., so that the new features are contained in $[-1,1]^d$ for instance), but we omit this step for this homework. However, we are going to use this information to sample initializations.\n",
    "\n"
   ]
  },
  {
   "cell_type": "code",
   "execution_count": 93,
   "metadata": {
    "colab": {
     "base_uri": "https://localhost:8080/"
    },
    "id": "P-4a_goe32uv",
    "outputId": "4381e3a8-941e-4d59-eaf7-522b437c0947"
   },
   "outputs": [
    {
     "name": "stdout",
     "output_type": "stream",
     "text": [
      "the range of feature 1 in the data set:  [4.3, 7.9]\n",
      "the range of feature 2 in the data set:  [2.0, 4.4]\n",
      "the range of feature 3 in the data set:  [1.0, 6.9]\n",
      "the range of feature 4 in the data set:  [0.1, 2.5]\n",
      "[[4.3, 7.9], [2.0, 4.4], [1.0, 6.9], [0.1, 2.5]]\n"
     ]
    }
   ],
   "source": [
    "total_feature = []\n",
    "for i in range (0,4):\n",
    "  feature_temp = X[:,i]\n",
    "  temp = [min(feature_temp),max(feature_temp)]\n",
    "  print(\"the range of feature %d in the data set: \" %(i+1), temp)\n",
    "  total_feature.append(temp)\n",
    "print(total_feature)"
   ]
  },
  {
   "cell_type": "markdown",
   "metadata": {
    "id": "MaDeyhnL9Djg"
   },
   "source": [
    "Re-run the K-means algorithm and the GMM+EM algorithm with 4 initializations sampled uniformly in the aforementioned cube. For the K-means, plot, as a function of $K$, the average $D_K$ (averaged over the 100 realizations) as well as the best performance (taking the min over the over the 100 realizations -- the minimizer might be obtained with a different initialization for each value of $K$). Proceed similarly for the GMM+EM algorithm using the likelihood."
   ]
  },
  {
   "cell_type": "code",
   "execution_count": 94,
   "metadata": {
    "colab": {
     "base_uri": "https://localhost:8080/",
     "height": 743
    },
    "id": "XMw6YzGX9Efn",
    "outputId": "d6bce4c7-f109-4e95-b9bf-085bd70653f8",
    "scrolled": false
   },
   "outputs": [
    {
     "name": "stdout",
     "output_type": "stream",
     "text": [
      "\n",
      "\n",
      "========== K-means for K =  1  ==========\n",
      "K-means, iteration =  0  avg distance =  681.3706000000001\n",
      "K-means, iteration =  1  total distance =  681.3706000000001\n",
      "\n",
      "\n",
      "========== K-means for K =  2  ==========\n",
      "K-means, iteration =  0  avg distance =  212.8249358974359\n",
      "K-means, iteration =  1  total distance =  163.16594452773612\n",
      "K-means, iteration =  2  total distance =  153.23206018518516\n",
      "K-means, iteration =  3  total distance =  152.34795176035792\n",
      "K-means, iteration =  4  total distance =  152.34795176035792\n",
      "\n",
      "\n",
      "========== K-means for K =  3  ==========\n",
      "K-means, iteration =  0  avg distance =  180.5319791666667\n",
      "K-means, iteration =  1  total distance =  99.27637566137567\n",
      "K-means, iteration =  2  total distance =  81.53428525641027\n",
      "K-means, iteration =  3  total distance =  79.93122727272728\n",
      "K-means, iteration =  4  total distance =  79.25363745349318\n",
      "K-means, iteration =  5  total distance =  78.85566582597728\n",
      "K-means, iteration =  6  total distance =  78.85566582597728\n",
      "\n",
      "\n",
      "========== K-means for K =  4  ==========\n",
      "K-means, iteration =  0  avg distance =  92.14244844517185\n",
      "K-means, iteration =  1  total distance =  73.66092424242424\n",
      "K-means, iteration =  2  total distance =  64.46145299647473\n",
      "K-means, iteration =  3  total distance =  58.009285229202035\n",
      "K-means, iteration =  4  total distance =  57.25552380952381\n",
      "K-means, iteration =  5  total distance =  57.25552380952381\n",
      "\n",
      "\n",
      "========== K-means for K =  5  ==========\n",
      "K-means, iteration =  0  avg distance =  157.8412556470521\n",
      "K-means, iteration =  1  total distance =  681.3706000000001\n",
      "K-means, iteration =  2  total distance =  681.3706000000001\n",
      "\n",
      "\n",
      "========== K-means for K =  6  ==========\n",
      "K-means, iteration =  0  avg distance =  69.7092669386419\n",
      "K-means, iteration =  1  total distance =  55.64926597744362\n",
      "K-means, iteration =  2  total distance =  49.09049624060151\n",
      "K-means, iteration =  3  total distance =  46.57671932180628\n",
      "K-means, iteration =  4  total distance =  46.47223015873017\n",
      "K-means, iteration =  5  total distance =  46.47223015873017\n",
      "\n",
      "\n",
      "========== K-means for K =  7  ==========\n",
      "K-means, iteration =  0  avg distance =  69.28944444444446\n",
      "K-means, iteration =  1  total distance =  56.502731940144486\n",
      "K-means, iteration =  2  total distance =  50.21990967979389\n",
      "K-means, iteration =  3  total distance =  45.5529115212273\n",
      "K-means, iteration =  4  total distance =  42.98569057029927\n",
      "K-means, iteration =  5  total distance =  42.188398989899\n",
      "K-means, iteration =  6  total distance =  42.188398989899\n"
     ]
    },
    {
     "name": "stderr",
     "output_type": "stream",
     "text": [
      "/opt/anaconda3/lib/python3.9/site-packages/numpy/core/fromnumeric.py:3440: RuntimeWarning: Mean of empty slice.\n",
      "  return _methods._mean(a, axis=axis, dtype=dtype,\n",
      "/opt/anaconda3/lib/python3.9/site-packages/numpy/core/_methods.py:189: RuntimeWarning: invalid value encountered in double_scalars\n",
      "  ret = ret.dtype.type(ret / rcount)\n"
     ]
    },
    {
     "data": {
      "image/png": "[encoded data removed]",
      "text/plain": [
       "<Figure size 432x288 with 1 Axes>"
      ]
     },
     "metadata": {
      "needs_background": "light"
     },
     "output_type": "display_data"
    },
    {
     "data": {
      "text/plain": [
       "<Figure size 432x288 with 0 Axes>"
      ]
     },
     "metadata": {},
     "output_type": "display_data"
    }
   ],
   "source": [
    "# random initialization with K-means\n",
    "import random\n",
    "def init_centroids_new(K, data):\n",
    "  # An arbitrary initialization: randomly shuffle inside the range of each feature\n",
    "  N = data.shape[1]\n",
    "  centroids = np.zeros((K,N))\n",
    "  for k in range(K):\n",
    "    for n in range(N):\n",
    "      centroids[k][n] = random.triangular(total_feature[n][0],total_feature[n][1])\n",
    "  return centroids\n",
    "\n",
    "def k_means_2(K, data):\n",
    "  # K-means algorithm\n",
    "  # Initialization\n",
    "  iiter = 0\n",
    "  # here we use the random initialization\n",
    "  centroids = init_centroids_new(K, data)\n",
    "  centroids, clusters = k_means_step(centroids, data)\n",
    "  # Measure of successs: sum of average distances\n",
    "  total_d = unweighted_dist_centroid(centroids, clusters, X)\n",
    "  print(\"K-means, iteration = \", iiter, \" avg distance = \", total_d)\n",
    "  cont = True # flag to continue or stop the loop\n",
    "  while cont:\n",
    "    # insert K-means loop\n",
    "    new_centroids,new_clusters = k_means_step(centroids,data)\n",
    "    iiter+=1\n",
    "    if (new_clusters == clusters).all():\n",
    "      cont = False\n",
    "    centroids, clusters = new_centroids, new_clusters\n",
    "    # Measure of successs: sum of average distances\n",
    "    total_d = unweighted_dist_centroid(centroids, clusters, X)\n",
    "    print(\"K-means, iteration = \", iiter, \" total distance = \", total_d)\n",
    "  return centroids, clusters\n",
    "\n",
    "\n",
    "# Tests\n",
    "avg_distances = []\n",
    "K_values = np.arange(1, 8)\n",
    "for K in K_values:\n",
    "  print(\"\\n\\n========== K-means for K = \", K, \" ==========\")\n",
    "  centroids, clusters = k_means_2(K, X)\n",
    "  avg_distances.append(avg_dist_centroid(centroids, clusters, X))\n",
    "\n",
    "plt.plot(K_values, avg_distances)\n",
    "plt.xlabel(\"K\")\n",
    "plt.ylabel(\"avg dist\")\n",
    "plt.show()\n",
    "plt.clf()\n",
    "\n"
   ]
  },
  {
   "cell_type": "code",
   "execution_count": 95,
   "metadata": {},
   "outputs": [
    {
     "name": "stdout",
     "output_type": "stream",
     "text": [
      "\n",
      "\n",
      "========== K-means for K =  1  ==========\n"
     ]
    },
    {
     "name": "stderr",
     "output_type": "stream",
     "text": [
      "/var/folders/6f/v5_vm1k90cdc80sb2rp4zc3m0000gn/T/ipykernel_1922/175859018.py:45: DeprecationWarning: Calling np.sum(generator) is deprecated, and in the future will give a different result. Use np.sum(np.fromiter(generator)) or the python sum builtin instead.\n",
      "  sum_probas = np.sum(probas[n][k] for n in range(N))\n",
      "/var/folders/6f/v5_vm1k90cdc80sb2rp4zc3m0000gn/T/ipykernel_1922/175859018.py:46: DeprecationWarning: Calling np.sum(generator) is deprecated, and in the future will give a different result. Use np.sum(np.fromiter(generator)) or the python sum builtin instead.\n",
      "  sum_probas_x = np.sum(probas[n][k]*data[n] for n in range(N))\n",
      "/var/folders/6f/v5_vm1k90cdc80sb2rp4zc3m0000gn/T/ipykernel_1922/175859018.py:49: DeprecationWarning: Calling np.sum(generator) is deprecated, and in the future will give a different result. Use np.sum(np.fromiter(generator)) or the python sum builtin instead.\n",
      "  sum_probas_covs = np.sum(probas[n][k]*(np.array([data[n]-mean_k]).T@ np.array([data[n]-mean_k])) for n in range(N))\n"
     ]
    },
    {
     "name": "stdout",
     "output_type": "stream",
     "text": [
      "\n",
      "\n",
      "========== K-means for K =  2  ==========\n",
      "\n",
      "\n",
      "========== K-means for K =  3  ==========\n",
      "\n",
      "\n",
      "========== K-means for K =  4  ==========\n",
      "\n",
      "\n",
      "========== K-means for K =  5  ==========\n",
      "\n",
      "\n",
      "========== K-means for K =  6  ==========\n",
      "\n",
      "\n",
      "========== K-means for K =  7  ==========\n"
     ]
    },
    {
     "data": {
      "image/png": "[encoded data removed]",
      "text/plain": [
       "<Figure size 432x288 with 1 Axes>"
      ]
     },
     "metadata": {
      "needs_background": "light"
     },
     "output_type": "display_data"
    },
    {
     "data": {
      "text/plain": [
       "<Figure size 432x288 with 0 Axes>"
      ]
     },
     "metadata": {},
     "output_type": "display_data"
    }
   ],
   "source": [
    "# random initialization with Expectation Maximization \n",
    "\n",
    "def init_gaussians_new(K, data):\n",
    "  # An arbitrary initialization\n",
    "  # and covariance = identity matrix\n",
    "  N = data.shape[1]\n",
    "  weights = [1/K for k in range(K)]\n",
    "  means = np.zeros((K,N))\n",
    "  for k in range(K):\n",
    "    for n in range(N):\n",
    "      means[k][n] = random.triangular(total_feature[n][0],total_feature[n][1])\n",
    "  dim = data.shape[1]\n",
    "  covs = [np.eye(dim) for k in range(K)]\n",
    "  return weights, means, covs\n",
    "\n",
    "def expectation_step(params, data):\n",
    "  # Expectation step in EM algorithm: given the GMM parameters, return\n",
    "  # the conditional probabilities of the cluster indices\n",
    "  n_samples = data.shape[0]\n",
    "  weights, means, covs = params #[0], params[1], params[2]\n",
    "  K = len(weights)\n",
    "  probas = np.zeros((n_samples,K)) \n",
    "  for n in range(n_samples):\n",
    "    # for n-th data, update the prob of the i-th cluster, which shows\n",
    "    #a prob matrix with size N*K\n",
    "    # p_value is the value of the i_th gaussian distribution on data point n\n",
    "    s_value = np.sum([multivariate_normal(means[i], covs[i],allow_singular = True).pdf(data[n])*weights[i] for i in range (K)])\n",
    "    for k in range(K):\n",
    "      p_value = multivariate_normal(means[k],covs[k],allow_singular = True).pdf(data[n])*weights[k]\n",
    "      probas[n][k] = p_value/s_value\n",
    "    \n",
    "\n",
    "  return np.asarray(probas)\n",
    "\n",
    "def maximization_step_2(probas, data):\n",
    "  # Maximization step in EM algorithm: given the probabilities, return the new\n",
    "  # parameters for GMM. Here we use formulas obtained by finding maximizers of \n",
    "  # the modified likelihood function.\n",
    "  K = probas.shape[1]\n",
    "  \n",
    "  params = init_gaussians_new(K, data)  # TODO: replace\n",
    "  N = data.shape[0]\n",
    "  for k in range(K):\n",
    "    sum_probas = np.sum(probas[n][k] for n in range(N))\n",
    "    sum_probas_x = np.sum(probas[n][k]*data[n] for n in range(N))\n",
    "    weight = sum_probas/N\n",
    "    mean_k = sum_probas_x/sum_probas\n",
    "    sum_probas_covs = np.sum(probas[n][k]*(np.array([data[n]-mean_k]).T@ np.array([data[n]-mean_k])) for n in range(N))\n",
    "    cov_k = sum_probas_covs/sum_probas\n",
    "\n",
    "\n",
    "    params[0][k] = weight\n",
    "    params[1][k] = mean_k\n",
    "    params[2][k] = cov_k\n",
    "  return params\n",
    "\n",
    "  \n",
    "def em_algorithm(K, data, n_iter):\n",
    "  # Expectation-maximization algorithm: return the GMM parameters\n",
    "  params = init_gaussians(K, data)\n",
    "  \n",
    "  for i in range(n_iter):\n",
    "    probas = expectation_step(params,data)\n",
    "    params = maximization_step_2(probas, data)\n",
    "  return params\n",
    "\n",
    "def log_likelihood(params, data):\n",
    "  # Compute the log-likelihood\n",
    "  log_l = 0\n",
    "  # from the log likelihood formula, we should calculate the expectation parts\n",
    "  # and the log parts.\n",
    "  N = data.shape[0]\n",
    "  K = len(params[0])\n",
    "  # we first calculate the expectation part\n",
    "  probas = expectation_step(params, data)\n",
    "  for n in range(N):\n",
    "    temp = 0\n",
    "    for k in range(K):\n",
    "      # we calculate the log parts.\n",
    "      t_value = params[0][k]*multivariate_normal(params[1][k],params[2][k],allow_singular = True).pdf(data[n])\n",
    "      p = probas[n][k]\n",
    "      # this is the element inside the summation of log likelihood\n",
    "      ele = p*(np.log10(t_value+1e-5))\n",
    "      temp += ele\n",
    "    log_l += temp\n",
    "\n",
    "  return log_l\n",
    "\n",
    "# Tests\n",
    "log_likelihoods = []\n",
    "K_values = np.arange(1, 8)\n",
    "n_iter = 50\n",
    "for K in K_values:\n",
    "  print(\"\\n\\n========== K-means for K = \", K, \" ==========\")\n",
    "  params = em_algorithm(K, X, n_iter)\n",
    "  log_likelihoods.append(log_likelihood(params, X))\n",
    "\n",
    "plt.plot(K_values, log_likelihoods)\n",
    "plt.xlabel(\"K\")\n",
    "plt.ylabel(\"log-likelihood\")\n",
    "plt.show()\n",
    "plt.clf()\n"
   ]
  },
  {
   "cell_type": "markdown",
   "metadata": {
    "id": "-we--YVeEvc8",
    "pycharm": {
     "name": "#%% md\n"
    }
   },
   "source": [
    "K-means++ is usually better than K-means for large Ks.\n",
    "A detailed, statistically sound experiment with averaged performance on different seeds will receive more bonus points.\n"
   ]
  },
  {
   "cell_type": "markdown",
   "metadata": {
    "id": "dNbCQRNTGMo5"
   },
   "source": [
    "# Part 3: Dimensionality reduction \n",
    "\n",
    "In this section, we explore dimensionality reduction using a simple projection technique.\n",
    "\n",
    "Let us project the data on the first two features, which means that each data point is now 2-dimensional."
   ]
  },
  {
   "cell_type": "markdown",
   "metadata": {
    "id": "Jjf_HDIcGPol"
   },
   "source": [
    "Write a function to visualize K-means clusters (e.g. with colors and markers). Run the K-means algorithm for various values of K and visualize the evolution of the clusters during the algorithm. "
   ]
  },
  {
   "cell_type": "code",
   "execution_count": 97,
   "metadata": {
    "id": "Hc-X4FtiGV-y",
    "scrolled": true
   },
   "outputs": [
    {
     "name": "stdout",
     "output_type": "stream",
     "text": [
      "\n",
      "\n",
      "========== K-means for K =  1  ==========\n",
      "K-means, iteration =  0  avg distance =  574.8792432000107\n",
      "K-means, iteration =  1  total distance =  574.8792432000107\n"
     ]
    },
    {
     "data": {
      "text/plain": [
       "<AxesSubplot:xlabel='0', ylabel='1'>"
      ]
     },
     "execution_count": 97,
     "metadata": {},
     "output_type": "execute_result"
    },
    {
     "data": {
      "image/png": "[encoded data removed]",
      "text/plain": [
       "<Figure size 432x288 with 1 Axes>"
      ]
     },
     "metadata": {
      "needs_background": "light"
     },
     "output_type": "display_data"
    }
   ],
   "source": [
    "from sklearn.preprocessing import StandardScaler\n",
    "from sklearn.decomposition import PCA\n",
    "import pandas as pd\n",
    "import seaborn as sns\n",
    "\n",
    "def vis_kmeans(clusters, data, feature = [0,1]):\n",
    "    df_lis = []\n",
    "    for idx in range(clusters.shape[0]):\n",
    "        cluster = clusters[idx]\n",
    "        point = data[list(cluster)]\n",
    "        df = pd.DataFrame(point)\n",
    "        df['cluster'] = idx + 1\n",
    "        df_lis.append(df)\n",
    "    draw_df = pd.concat(df_lis)\n",
    "    return sns.scatterplot(data=draw_df, x=feature[0], y=feature[1], hue=\"cluster\",palette=\"deep\")\n",
    "\n",
    "# pca:\n",
    "x = StandardScaler().fit_transform(X) # normalizing the features\n",
    "np.mean(x),np.std(x)\n",
    "\n",
    "pca_data = PCA(n_components=2)\n",
    "x_pca = pca_data.fit_transform(x)\n",
    "# vis\n",
    "print(\"\\n\\n========== K-means for K = \", 1, \" ==========\")\n",
    "centroids, clusters = k_means(1, x_pca)\n",
    "vis_kmeans(clusters,x_pca)\n",
    "\n",
    "\n",
    "\n"
   ]
  },
  {
   "cell_type": "code",
   "execution_count": 98,
   "metadata": {},
   "outputs": [
    {
     "name": "stdout",
     "output_type": "stream",
     "text": [
      "\n",
      "\n",
      "========== K-means for K =  2  ==========\n",
      "K-means, iteration =  0  avg distance =  477.4356378977865\n",
      "K-means, iteration =  1  total distance =  298.6020434490001\n",
      "K-means, iteration =  2  total distance =  197.4038160454129\n",
      "K-means, iteration =  3  total distance =  197.4038160454129\n"
     ]
    },
    {
     "data": {
      "text/plain": [
       "<AxesSubplot:xlabel='0', ylabel='1'>"
      ]
     },
     "execution_count": 98,
     "metadata": {},
     "output_type": "execute_result"
    },
    {
     "data": {
      "image/png": "[encoded data removed]",
      "text/plain": [
       "<Figure size 432x288 with 1 Axes>"
      ]
     },
     "metadata": {
      "needs_background": "light"
     },
     "output_type": "display_data"
    }
   ],
   "source": [
    "print(\"\\n\\n========== K-means for K = \", 2, \" ==========\")\n",
    "centroids, clusters = k_means(2, x_pca)\n",
    "vis_kmeans(clusters,x_pca)"
   ]
  },
  {
   "cell_type": "code",
   "execution_count": 99,
   "metadata": {
    "scrolled": false
   },
   "outputs": [
    {
     "name": "stdout",
     "output_type": "stream",
     "text": [
      "\n",
      "\n",
      "========== K-means for K =  3  ==========\n",
      "K-means, iteration =  0  avg distance =  423.88865520944995\n",
      "K-means, iteration =  1  total distance =  201.7564649696493\n",
      "K-means, iteration =  2  total distance =  184.71425774784154\n",
      "K-means, iteration =  3  total distance =  162.9232503485373\n",
      "K-means, iteration =  4  total distance =  122.4750612507484\n",
      "K-means, iteration =  5  total distance =  117.23530801742501\n",
      "K-means, iteration =  6  total distance =  115.55413180623346\n",
      "K-means, iteration =  7  total distance =  115.41830448507721\n",
      "K-means, iteration =  8  total distance =  115.30540167548124\n",
      "K-means, iteration =  9  total distance =  115.22494893096548\n",
      "K-means, iteration =  10  total distance =  115.18647050742707\n",
      "K-means, iteration =  11  total distance =  115.18647050742707\n"
     ]
    },
    {
     "data": {
      "text/plain": [
       "<AxesSubplot:xlabel='0', ylabel='1'>"
      ]
     },
     "execution_count": 99,
     "metadata": {},
     "output_type": "execute_result"
    },
    {
     "data": {
      "image/png": "[encoded data removed]",
      "text/plain": [
       "<Figure size 432x288 with 1 Axes>"
      ]
     },
     "metadata": {
      "needs_background": "light"
     },
     "output_type": "display_data"
    }
   ],
   "source": [
    "print(\"\\n\\n========== K-means for K = \", 3, \" ==========\")\n",
    "centroids, clusters = k_means(3, x_pca)\n",
    "vis_kmeans(clusters,x_pca)"
   ]
  },
  {
   "cell_type": "code",
   "execution_count": 100,
   "metadata": {
    "scrolled": false
   },
   "outputs": [
    {
     "name": "stdout",
     "output_type": "stream",
     "text": [
      "\n",
      "\n",
      "========== K-means for K =  4  ==========\n",
      "K-means, iteration =  0  avg distance =  396.5349489314403\n",
      "K-means, iteration =  1  total distance =  184.54156053946505\n",
      "K-means, iteration =  2  total distance =  148.3398203119901\n",
      "K-means, iteration =  3  total distance =  126.61603579075029\n",
      "K-means, iteration =  4  total distance =  101.3441127607108\n",
      "K-means, iteration =  5  total distance =  97.1605715357902\n",
      "K-means, iteration =  6  total distance =  93.60281372731983\n",
      "K-means, iteration =  7  total distance =  90.36827958682503\n",
      "K-means, iteration =  8  total distance =  90.07216180121465\n",
      "K-means, iteration =  9  total distance =  89.85331202188264\n",
      "K-means, iteration =  10  total distance =  89.55181314668194\n",
      "K-means, iteration =  11  total distance =  89.51333472314353\n",
      "K-means, iteration =  12  total distance =  89.51333472314353\n"
     ]
    },
    {
     "data": {
      "text/plain": [
       "<AxesSubplot:xlabel='0', ylabel='1'>"
      ]
     },
     "execution_count": 100,
     "metadata": {},
     "output_type": "execute_result"
    },
    {
     "data": {
      "image/png": "[encoded data removed]",
      "text/plain": [
       "<Figure size 432x288 with 1 Axes>"
      ]
     },
     "metadata": {
      "needs_background": "light"
     },
     "output_type": "display_data"
    }
   ],
   "source": [
    "print(\"\\n\\n========== K-means for K = \", 4, \" ==========\")\n",
    "centroids, clusters = k_means(4, x_pca)\n",
    "vis_kmeans(clusters,x_pca)"
   ]
  },
  {
   "cell_type": "code",
   "execution_count": 101,
   "metadata": {
    "scrolled": true
   },
   "outputs": [
    {
     "name": "stdout",
     "output_type": "stream",
     "text": [
      "\n",
      "\n",
      "========== K-means for K =  5  ==========\n",
      "K-means, iteration =  0  avg distance =  313.7027584473595\n",
      "K-means, iteration =  1  total distance =  104.67809416207294\n",
      "K-means, iteration =  2  total distance =  82.34885641124674\n",
      "K-means, iteration =  3  total distance =  80.44056873166984\n",
      "K-means, iteration =  4  total distance =  80.28643148963866\n",
      "K-means, iteration =  5  total distance =  80.2059787451229\n",
      "K-means, iteration =  6  total distance =  80.1675003215845\n",
      "K-means, iteration =  7  total distance =  80.1675003215845\n"
     ]
    },
    {
     "data": {
      "text/plain": [
       "<AxesSubplot:xlabel='0', ylabel='1'>"
      ]
     },
     "execution_count": 101,
     "metadata": {},
     "output_type": "execute_result"
    },
    {
     "data": {
      "image/png": "[encoded data removed]",
      "text/plain": [
       "<Figure size 432x288 with 1 Axes>"
      ]
     },
     "metadata": {
      "needs_background": "light"
     },
     "output_type": "display_data"
    }
   ],
   "source": [
    "print(\"\\n\\n========== K-means for K = \", 5, \" ==========\")\n",
    "centroids, clusters = k_means(5, x_pca)\n",
    "vis_kmeans(clusters,x_pca)"
   ]
  },
  {
   "cell_type": "code",
   "execution_count": 102,
   "metadata": {
    "scrolled": true
   },
   "outputs": [
    {
     "name": "stdout",
     "output_type": "stream",
     "text": [
      "\n",
      "\n",
      "========== K-means for K =  6  ==========\n",
      "K-means, iteration =  0  avg distance =  286.43432111400466\n",
      "K-means, iteration =  1  total distance =  83.63108441261545\n",
      "K-means, iteration =  2  total distance =  78.94631549366036\n",
      "K-means, iteration =  3  total distance =  78.7178001679203\n",
      "K-means, iteration =  4  total distance =  78.62316487039959\n",
      "K-means, iteration =  5  total distance =  78.54037806048203\n",
      "K-means, iteration =  6  total distance =  78.11666484331954\n",
      "K-means, iteration =  7  total distance =  78.01870247778112\n",
      "K-means, iteration =  8  total distance =  78.01870247778112\n"
     ]
    },
    {
     "data": {
      "text/plain": [
       "<AxesSubplot:xlabel='0', ylabel='1'>"
      ]
     },
     "execution_count": 102,
     "metadata": {},
     "output_type": "execute_result"
    },
    {
     "data": {
      "image/png": "[encoded data removed]",
      "text/plain": [
       "<Figure size 432x288 with 1 Axes>"
      ]
     },
     "metadata": {
      "needs_background": "light"
     },
     "output_type": "display_data"
    }
   ],
   "source": [
    "print(\"\\n\\n========== K-means for K = \", 6, \" ==========\")\n",
    "centroids, clusters = k_means(6, x_pca)\n",
    "vis_kmeans(clusters,x_pca)"
   ]
  },
  {
   "cell_type": "code",
   "execution_count": 103,
   "metadata": {},
   "outputs": [
    {
     "name": "stdout",
     "output_type": "stream",
     "text": [
      "\n",
      "\n",
      "========== K-means for K =  7  ==========\n",
      "K-means, iteration =  0  avg distance =  285.8562251652541\n",
      "K-means, iteration =  1  total distance =  82.87676355932672\n",
      "K-means, iteration =  2  total distance =  78.14719636975295\n",
      "K-means, iteration =  3  total distance =  77.4351971156432\n",
      "K-means, iteration =  4  total distance =  77.3967186921048\n",
      "K-means, iteration =  5  total distance =  77.3967186921048\n"
     ]
    },
    {
     "data": {
      "text/plain": [
       "<AxesSubplot:xlabel='0', ylabel='1'>"
      ]
     },
     "execution_count": 103,
     "metadata": {},
     "output_type": "execute_result"
    },
    {
     "data": {
      "image/png": "[encoded data removed]",
      "text/plain": [
       "<Figure size 432x288 with 1 Axes>"
      ]
     },
     "metadata": {
      "needs_background": "light"
     },
     "output_type": "display_data"
    }
   ],
   "source": [
    "print(\"\\n\\n========== K-means for K = \", 7, \" ==========\")\n",
    "centroids, clusters = k_means(7, x_pca)\n",
    "vis_kmeans(clusters,x_pca)"
   ]
  }
 ],
 "metadata": {
  "colab": {
   "provenance": []
  },
  "kernelspec": {
   "display_name": "Python 3 (ipykernel)",
   "language": "python",
   "name": "python3"
  },
  "language_info": {
   "codemirror_mode": {
    "name": "ipython",
    "version": 3
   },
   "file_extension": ".py",
   "mimetype": "text/x-python",
   "name": "python",
   "nbconvert_exporter": "python",
   "pygments_lexer": "ipython3",
   "version": "3.9.12"
  },
  "vscode": {
   "interpreter": {
    "hash": "40d3a090f54c6569ab1632332b64b2c03c39dcf918b08424e98f38b5ae0af88f"
   }
  }
 },
 "nbformat": 4,
 "nbformat_minor": 1
}
